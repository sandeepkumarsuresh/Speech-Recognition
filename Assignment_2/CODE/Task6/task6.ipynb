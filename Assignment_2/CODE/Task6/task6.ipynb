{
 "cells": [
  {
   "cell_type": "code",
   "execution_count": 1,
   "metadata": {},
   "outputs": [],
   "source": [
    "import parselmouth \n",
    "from parselmouth import praat"
   ]
  },
  {
   "cell_type": "code",
   "execution_count": 54,
   "metadata": {},
   "outputs": [],
   "source": [
    "test1 = '/home/tenet/Desktop/CS22Z121/Assignment_2/Task6/c_a2.wav'\n",
    "test2 = '/home/tenet/Desktop/CS22Z121/Assignment_2/Task6/c_i.wav'\n",
    "test3 = '/home/tenet/Desktop/CS22Z121/Assignment_2/Task6/d_u.wav'\n",
    "test4 = '/home/tenet/Desktop/CS22Z121/Assignment_2/a_16_1_c.wav'\n",
    "test5 = '/home/tenet/Desktop/CS22Z121/Assignment_2/i_16_1_c.wav'\n",
    "test6 = '/home/tenet/Desktop/CS22Z121/Assignment_2/u_16_cc.wav'"
   ]
  },
  {
   "cell_type": "code",
   "execution_count": 55,
   "metadata": {},
   "outputs": [],
   "source": [
    "sound_a6 = parselmouth.Sound(test1)\n",
    "sound_i6 = parselmouth.Sound(test2)\n",
    "sound_u6 = parselmouth.Sound(test3)\n",
    "sound_a = parselmouth.Sound(test4)\n",
    "sound_i = parselmouth.Sound(test5)\n",
    "sound_u= parselmouth.Sound(test6)\n"
   ]
  },
  {
   "cell_type": "code",
   "execution_count": 56,
   "metadata": {},
   "outputs": [],
   "source": [
    "f0min=75\n",
    "f0max=300\n",
    "pointProcess = praat.call(sound_a6, \"To PointProcess (periodic, cc)\", f0min, f0max)\n",
    "pointProcess = praat.call(sound_i6, \"To PointProcess (periodic, cc)\", f0min, f0max)\n",
    "pointProcess = praat.call(sound_u6, \"To PointProcess (periodic, cc)\", f0min, f0max)\n",
    "pointProcess = praat.call(sound_a, \"To PointProcess (periodic, cc)\", f0min, f0max)\n",
    "pointProcess = praat.call(sound_i, \"To PointProcess (periodic, cc)\", f0min, f0max)\n",
    "pointProcess = praat.call(sound_u, \"To PointProcess (periodic, cc)\", f0min, f0max)\n",
    "\n"
   ]
  },
  {
   "cell_type": "code",
   "execution_count": 57,
   "metadata": {},
   "outputs": [],
   "source": [
    "formants_a6 = praat.call(sound_a6, \"To Formant (burg)\", 0.0025, 5, 5000, 0.025, 50)\n",
    "formants_i6 = praat.call(sound_i6, \"To Formant (burg)\", 0.0025, 5, 5000, 0.025, 50)\n",
    "formants_u6 = praat.call(sound_u6, \"To Formant (burg)\", 0.0025, 5, 5000, 0.025, 50)\n",
    "formants_a = praat.call(sound_a, \"To Formant (burg)\", 0.0025, 5, 5000, 0.025, 50)\n",
    "formants_i = praat.call(sound_i, \"To Formant (burg)\", 0.0025, 5, 5000, 0.025, 50)\n",
    "formants_u = praat.call(sound_u, \"To Formant (burg)\", 0.0025, 5, 5000, 0.025, 50)\n",
    "\n"
   ]
  },
  {
   "cell_type": "code",
   "execution_count": 58,
   "metadata": {},
   "outputs": [],
   "source": [
    "numPoints = praat.call(pointProcess, \"Get number of points\")\n",
    "f1_a6 = []\n",
    "f2_a6 = []\n",
    "for point in range(0, numPoints):\n",
    "    point += 1\n",
    "    t = praat.call(pointProcess, \"Get time from index\", point)\n",
    "    f1 = praat.call(formants_a6, \"Get value at time\", 1, t, 'Hertz', 'Linear')\n",
    "    f2 = praat.call(formants_a6, \"Get value at time\", 2, t, 'Hertz', 'Linear')\n",
    "    f1_a6.append(f1)\n",
    "    f2_a6.append(f2)\n"
   ]
  },
  {
   "cell_type": "code",
   "execution_count": 59,
   "metadata": {},
   "outputs": [],
   "source": [
    "numPoints = praat.call(pointProcess, \"Get number of points\")\n",
    "f1_i6 = []\n",
    "f2_i6 = []\n",
    "for point in range(0, numPoints):\n",
    "    point += 1\n",
    "    t = praat.call(pointProcess, \"Get time from index\", point)\n",
    "    f1 = praat.call(formants_i6, \"Get value at time\", 1, t, 'Hertz', 'Linear')\n",
    "    f2 = praat.call(formants_i6, \"Get value at time\", 2, t, 'Hertz', 'Linear')\n",
    "    f1_i6.append(f1)\n",
    "    f2_i6.append(f2)\n"
   ]
  },
  {
   "cell_type": "code",
   "execution_count": 60,
   "metadata": {},
   "outputs": [],
   "source": [
    "numPoints = praat.call(pointProcess, \"Get number of points\")\n",
    "f1_u6 = []\n",
    "f2_u6 = []\n",
    "for point in range(0, numPoints):\n",
    "    point += 1\n",
    "    t = praat.call(pointProcess, \"Get time from index\", point)\n",
    "    f1 = praat.call(formants_u6, \"Get value at time\", 1, t, 'Hertz', 'Linear')\n",
    "    f2 = praat.call(formants_u6, \"Get value at time\", 2, t, 'Hertz', 'Linear')\n",
    "    f1_u6.append(f1)\n",
    "    f2_u6.append(f2)"
   ]
  },
  {
   "cell_type": "code",
   "execution_count": 61,
   "metadata": {},
   "outputs": [],
   "source": [
    "numPoints = praat.call(pointProcess, \"Get number of points\")\n",
    "f1_a = []\n",
    "f2_a = []\n",
    "for point in range(0, numPoints):\n",
    "    point += 1\n",
    "    t = praat.call(pointProcess, \"Get time from index\", point)\n",
    "    f1 = praat.call(formants_a, \"Get value at time\", 1, t, 'Hertz', 'Linear')\n",
    "    f2 = praat.call(formants_a, \"Get value at time\", 2, t, 'Hertz', 'Linear')\n",
    "    f1_a.append(f1)\n",
    "    f2_a.append(f2)\n"
   ]
  },
  {
   "cell_type": "code",
   "execution_count": 62,
   "metadata": {},
   "outputs": [],
   "source": [
    "numPoints = praat.call(pointProcess, \"Get number of points\")\n",
    "f1_i = []\n",
    "f2_i = []\n",
    "f3_list = []\n",
    "for point in range(0, numPoints):\n",
    "    point += 1\n",
    "    t = praat.call(pointProcess, \"Get time from index\", point)\n",
    "    f1 = praat.call(formants_i, \"Get value at time\", 1, t, 'Hertz', 'Linear')\n",
    "    f2 = praat.call(formants_i, \"Get value at time\", 2, t, 'Hertz', 'Linear')\n",
    "    f1_i.append(f1)\n",
    "    f2_i.append(f2)\n"
   ]
  },
  {
   "cell_type": "code",
   "execution_count": 63,
   "metadata": {},
   "outputs": [],
   "source": [
    "numPoints = praat.call(pointProcess, \"Get number of points\")\n",
    "f1_u = []\n",
    "f2_u = []\n",
    "f3_list = []\n",
    "for point in range(0, numPoints):\n",
    "    point += 1\n",
    "    t = praat.call(pointProcess, \"Get time from index\", point)\n",
    "    f1 = praat.call(formants_u, \"Get value at time\", 1, t, 'Hertz', 'Linear')\n",
    "    f2 = praat.call(formants_u, \"Get value at time\", 2, t, 'Hertz', 'Linear')\n",
    "    f1_u.append(f1)\n",
    "    f2_u.append(f2)\n"
   ]
  },
  {
   "cell_type": "code",
   "execution_count": 64,
   "metadata": {},
   "outputs": [],
   "source": [
    "import matplotlib.pyplot as plt\n",
    "plt.rcParams['figure.figsize'] = [6,5]"
   ]
  },
  {
   "cell_type": "code",
   "execution_count": 66,
   "metadata": {},
   "outputs": [
    {
     "data": {
      "image/png": "[encoded data removed]",
      "text/plain": [
       "<Figure size 432x360 with 1 Axes>"
      ]
     },
     "metadata": {
      "needs_background": "light"
     },
     "output_type": "display_data"
    }
   ],
   "source": [
    "plt.scatter(f1_a6,f2_a6 ,c=\"slateblue\")\n",
    "plt.scatter(f1_i6,f2_i6, c=\"darkorange\")\n",
    "plt.scatter(f1_u6,f2_u6, c=\"lime\")\n",
    "plt.scatter(f1_a,f2_a ,c=\"blue\")\n",
    "plt.scatter(f1_i,f2_i ,c=\"gold\")\n",
    "plt.scatter(f1_u,f2_u, c=\"green\")\n",
    "plt.legend(['a6','i6','u6','a','i','u'])\n",
    "plt.xlabel(\"F1\")\n",
    "plt.ylabel(\"F2\")\n",
    "plt.title(\"Formant Plot Of Vowels with that of Assignment 1 Vowels\")\n",
    "\n",
    "plt.show()\n"
   ]
  },
  {
   "cell_type": "code",
   "execution_count": null,
   "metadata": {},
   "outputs": [],
   "source": []
  }
 ],
 "metadata": {
  "kernelspec": {
   "display_name": "Python 3",
   "language": "python",
   "name": "python3"
  },
  "language_info": {
   "codemirror_mode": {
    "name": "ipython",
    "version": 3
   },
   "file_extension": ".py",
   "mimetype": "text/x-python",
   "name": "python",
   "nbconvert_exporter": "python",
   "pygments_lexer": "ipython3",
   "version": "3.8.10"
  },
  "orig_nbformat": 4,
  "vscode": {
   "interpreter": {
    "hash": "916dbcbb3f70747c44a77c7bcd40155683ae19c65e1c03b4aa3499c5328201f1"
   }
  }
 },
 "nbformat": 4,
 "nbformat_minor": 2
}
