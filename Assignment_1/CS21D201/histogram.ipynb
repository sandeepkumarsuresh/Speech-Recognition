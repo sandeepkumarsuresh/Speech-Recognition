{
 "cells": [
  {
   "cell_type": "code",
   "execution_count": 1,
   "metadata": {},
   "outputs": [],
   "source": [
    "import matplotlib.pyplot as plt\n",
    "import numpy as np\n",
    "import pandas as pd\n"
   ]
  },
  {
   "cell_type": "code",
   "execution_count": 2,
   "metadata": {},
   "outputs": [],
   "source": [
    "data = '/home/tenet/Desktop/CS22Z121/CS21D201_/CS21D201/Labels/Vowels/concat.txt'\n",
    "vowel = pd.read_csv(data , sep = '\\t',header=None)\n"
   ]
  },
  {
   "cell_type": "code",
   "execution_count": 3,
   "metadata": {},
   "outputs": [],
   "source": [
    "vowel = vowel.assign(time_duration = vowel[1]-vowel[0])"
   ]
  },
  {
   "cell_type": "code",
   "execution_count": 4,
   "metadata": {},
   "outputs": [],
   "source": [
    "vowel.to_csv(\"vowel_cs21d201.csv\")"
   ]
  },
  {
   "cell_type": "code",
   "execution_count": 5,
   "metadata": {},
   "outputs": [],
   "source": [
    "a = np.genfromtxt('a_.txt')\n",
    "e = np.genfromtxt('e_.txt')\n",
    "i = np.genfromtxt('i_.txt')\n",
    "o = np.genfromtxt('o_.txt')\n",
    "u = np.genfromtxt('u_.txt')\n",
    "\n",
    "a_1 = list(a)\n",
    "e_1 = list(e)\n",
    "i_1 = list(i)\n",
    "o_1 = list(o)\n",
    "u_1 = list(u)\n"
   ]
  },
  {
   "cell_type": "code",
   "execution_count": 6,
   "metadata": {},
   "outputs": [
    {
     "data": {
      "image/png": "[encoded data removed]",
      "text/plain": [
       "<Figure size 1152x432 with 1 Axes>"
      ]
     },
     "metadata": {
      "needs_background": "light"
     },
     "output_type": "display_data"
    }
   ],
   "source": [
    "plt.figure(figsize=(16,6))\n",
    "values, bins, bars = plt.hist([a,e,i,o,u],label=['/a/','/e/','/i/','/o/','/u/'])\n",
    "plt.legend(borderpad = 0.8)\n",
    "plt.xlabel('durations')\n",
    "plt.ylabel('frequency (a,e,i,o,u)')\n",
    "plt.bar_label(bars[0])\n",
    "plt.bar_label(bars[1])\n",
    "plt.bar_label(bars[2])\n",
    "plt.bar_label(bars[3])\n",
    "plt.bar_label(bars[4])\n",
    "plt.show()"
   ]
  },
  {
   "cell_type": "code",
   "execution_count": 13,
   "metadata": {},
   "outputs": [],
   "source": [
    "#data for syllable\n",
    "\n",
    "data_syllable = '/home/tenet/Desktop/CS22Z121/CS21D201_/CS21D201/Labels/Syllables/concat.txt'\n",
    "syllable = pd.read_csv(data_syllable , sep = '\\t',header=None)\n",
    "\n"
   ]
  },
  {
   "cell_type": "code",
   "execution_count": 17,
   "metadata": {},
   "outputs": [
    {
     "data": {
      "text/html": [
       "<div>\n",
       "<style scoped>\n",
       "    .dataframe tbody tr th:only-of-type {\n",
       "        vertical-align: middle;\n",
       "    }\n",
       "\n",
       "    .dataframe tbody tr th {\n",
       "        vertical-align: top;\n",
       "    }\n",
       "\n",
       "    .dataframe thead th {\n",
       "        text-align: right;\n",
       "    }\n",
       "</style>\n",
       "<table border=\"1\" class=\"dataframe\">\n",
       "  <thead>\n",
       "    <tr style=\"text-align: right;\">\n",
       "      <th></th>\n",
       "      <th>0</th>\n",
       "      <th>1</th>\n",
       "      <th>2</th>\n",
       "      <th>time_duration</th>\n",
       "    </tr>\n",
       "  </thead>\n",
       "  <tbody>\n",
       "    <tr>\n",
       "      <th>0</th>\n",
       "      <td>0.000000</td>\n",
       "      <td>0.399710</td>\n",
       "      <td>she</td>\n",
       "      <td>0.399710</td>\n",
       "    </tr>\n",
       "    <tr>\n",
       "      <th>1</th>\n",
       "      <td>0.399710</td>\n",
       "      <td>0.827145</td>\n",
       "      <td>had</td>\n",
       "      <td>0.427435</td>\n",
       "    </tr>\n",
       "    <tr>\n",
       "      <th>2</th>\n",
       "      <td>0.827145</td>\n",
       "      <td>1.114797</td>\n",
       "      <td>your</td>\n",
       "      <td>0.287652</td>\n",
       "    </tr>\n",
       "    <tr>\n",
       "      <th>3</th>\n",
       "      <td>1.114797</td>\n",
       "      <td>1.461366</td>\n",
       "      <td>dark</td>\n",
       "      <td>0.346569</td>\n",
       "    </tr>\n",
       "    <tr>\n",
       "      <th>4</th>\n",
       "      <td>1.461366</td>\n",
       "      <td>2.070172</td>\n",
       "      <td>suit</td>\n",
       "      <td>0.608806</td>\n",
       "    </tr>\n",
       "    <tr>\n",
       "      <th>...</th>\n",
       "      <td>...</td>\n",
       "      <td>...</td>\n",
       "      <td>...</td>\n",
       "      <td>...</td>\n",
       "    </tr>\n",
       "    <tr>\n",
       "      <th>203</th>\n",
       "      <td>0.619876</td>\n",
       "      <td>0.693992</td>\n",
       "      <td>er</td>\n",
       "      <td>0.074116</td>\n",
       "    </tr>\n",
       "    <tr>\n",
       "      <th>204</th>\n",
       "      <td>0.693992</td>\n",
       "      <td>0.882650</td>\n",
       "      <td>sin</td>\n",
       "      <td>0.188658</td>\n",
       "    </tr>\n",
       "    <tr>\n",
       "      <th>205</th>\n",
       "      <td>0.882650</td>\n",
       "      <td>0.997192</td>\n",
       "      <td>gu</td>\n",
       "      <td>0.114542</td>\n",
       "    </tr>\n",
       "    <tr>\n",
       "      <th>206</th>\n",
       "      <td>0.997192</td>\n",
       "      <td>1.197641</td>\n",
       "      <td>lar</td>\n",
       "      <td>0.200449</td>\n",
       "    </tr>\n",
       "    <tr>\n",
       "      <th>207</th>\n",
       "      <td>1.197641</td>\n",
       "      <td>1.613708</td>\n",
       "      <td>gol</td>\n",
       "      <td>0.416067</td>\n",
       "    </tr>\n",
       "  </tbody>\n",
       "</table>\n",
       "<p>208 rows × 4 columns</p>\n",
       "</div>"
      ],
      "text/plain": [
       "            0         1     2  time_duration\n",
       "0    0.000000  0.399710   she       0.399710\n",
       "1    0.399710  0.827145   had       0.427435\n",
       "2    0.827145  1.114797  your       0.287652\n",
       "3    1.114797  1.461366  dark       0.346569\n",
       "4    1.461366  2.070172  suit       0.608806\n",
       "..        ...       ...   ...            ...\n",
       "203  0.619876  0.693992    er       0.074116\n",
       "204  0.693992  0.882650   sin       0.188658\n",
       "205  0.882650  0.997192    gu       0.114542\n",
       "206  0.997192  1.197641   lar       0.200449\n",
       "207  1.197641  1.613708   gol       0.416067\n",
       "\n",
       "[208 rows x 4 columns]"
      ]
     },
     "execution_count": 17,
     "metadata": {},
     "output_type": "execute_result"
    }
   ],
   "source": [
    "syllable = syllable.assign(time_duration = syllable[1]-syllable[0])\n",
    "\n",
    "syllable"
   ]
  },
  {
   "cell_type": "code",
   "execution_count": 20,
   "metadata": {},
   "outputs": [],
   "source": [
    "syllable.to_csv(\"syllable_cs21d201.csv\")\n",
    "syllable_cs21d201 = np.genfromtxt('syllable_cs21d201.txt')\n"
   ]
  },
  {
   "cell_type": "code",
   "execution_count": 21,
   "metadata": {},
   "outputs": [],
   "source": [
    "syllable_all_list=list(syllable_cs21d201)"
   ]
  },
  {
   "cell_type": "code",
   "execution_count": 22,
   "metadata": {},
   "outputs": [
    {
     "data": {
      "image/png": "[encoded data removed]",
      "text/plain": [
       "<Figure size 864x432 with 1 Axes>"
      ]
     },
     "metadata": {
      "needs_background": "light"
     },
     "output_type": "display_data"
    }
   ],
   "source": [
    "plt.figure(figsize=(12,6))\n",
    "values, bins, bars = plt.hist(syllable_all_list,label='syllables',rwidth=0.8)\n",
    "plt.legend(borderpad = 0.5)\n",
    "plt.xlabel('durations')\n",
    "plt.ylabel('frequency (all syllables)')\n",
    "plt.bar_label(bars)\n",
    "plt.show()"
   ]
  },
  {
   "cell_type": "code",
   "execution_count": 25,
   "metadata": {},
   "outputs": [
    {
     "data": {
      "text/plain": [
       "0.23224340865384616"
      ]
     },
     "execution_count": 25,
     "metadata": {},
     "output_type": "execute_result"
    }
   ],
   "source": [
    "syllable_mean = np.mean(syllable_cs21d201)\n",
    "syllable_mean"
   ]
  },
  {
   "cell_type": "code",
   "execution_count": null,
   "metadata": {},
   "outputs": [],
   "source": []
  }
 ],
 "metadata": {
  "kernelspec": {
   "display_name": "Python 3",
   "language": "python",
   "name": "python3"
  },
  "language_info": {
   "codemirror_mode": {
    "name": "ipython",
    "version": 3
   },
   "file_extension": ".py",
   "mimetype": "text/x-python",
   "name": "python",
   "nbconvert_exporter": "python",
   "pygments_lexer": "ipython3",
   "version": "3.8.10 (default, Nov 14 2022, 12:59:47) \n[GCC 9.4.0]"
  },
  "orig_nbformat": 4,
  "vscode": {
   "interpreter": {
    "hash": "916dbcbb3f70747c44a77c7bcd40155683ae19c65e1c03b4aa3499c5328201f1"
   }
  }
 },
 "nbformat": 4,
 "nbformat_minor": 2
}
