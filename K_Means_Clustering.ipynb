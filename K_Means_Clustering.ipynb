{
 "cells": [
  {
   "cell_type": "code",
   "execution_count": 2,
   "metadata": {},
   "outputs": [],
   "source": [
    "import numpy as np\n",
    "import pandas as pd\n",
    "import matplotlib.pyplot as plt\n",
    "import random\n",
    "import sys"
   ]
  },
  {
   "cell_type": "code",
   "execution_count": 3,
   "metadata": {},
   "outputs": [],
   "source": [
    "data = pd.concat(map(pd.read_csv, ['A1.csv', 'E1.csv','I1.csv','O1.csv','U1.csv']))"
   ]
  },
  {
   "cell_type": "code",
   "execution_count": 4,
   "metadata": {},
   "outputs": [],
   "source": [
    "data.to_excel('pandas_to_excel.xlsx', sheet_name='new_sheet_name')"
   ]
  },
  {
   "cell_type": "code",
   "execution_count": 5,
   "metadata": {},
   "outputs": [],
   "source": [
    "df = pd.read_csv(\"pandas_to_excel.csv\", sep = '\\t')"
   ]
  },
  {
   "cell_type": "code",
   "execution_count": 6,
   "metadata": {},
   "outputs": [],
   "source": [
    "n_cluster = 5 \n",
    "\n",
    "max_iterations = 100\n",
    "\n",
    "centroid = []\n",
    "\n",
    "cluster_group = []\n",
    "\n",
    "distances = []\n",
    "\n",
    "new_centroid = []\n"
   ]
  },
  {
   "cell_type": "code",
   "execution_count": 7,
   "metadata": {},
   "outputs": [],
   "source": [
    "X = df.iloc[:,:].values"
   ]
  },
  {
   "cell_type": "markdown",
   "metadata": {},
   "source": [
    "Initializing Random Centroids"
   ]
  },
  {
   "cell_type": "code",
   "execution_count": 8,
   "metadata": {},
   "outputs": [],
   "source": [
    "random_index = random.sample(range(0,X.shape[0]),n_cluster)\n",
    "centroid = X[random_index]"
   ]
  },
  {
   "cell_type": "markdown",
   "metadata": {},
   "source": [
    "Function to find min distance to the assigned centroids"
   ]
  },
  {
   "cell_type": "code",
   "execution_count": 9,
   "metadata": {},
   "outputs": [],
   "source": [
    "def assign_clusters(X):\n",
    "    \n",
    "    cluster_group = []\n",
    "    distances = []\n",
    "       \n",
    "    for row in X:\n",
    "        for centroids in centroid:\n",
    "            distances.append(np.sqrt(np.dot(row-centroids,row-centroids)))\n",
    "        min_distance = min(distances)\n",
    "        index_pos = distances.index(min_distance)\n",
    "        cluster_group.append(index_pos)\n",
    "        distances.clear()\n",
    "    return np.array(cluster_group)"
   ]
  },
  {
   "cell_type": "markdown",
   "metadata": {},
   "source": [
    "Function to find move the centroid  //taking avg of the data ie F1 and F2"
   ]
  },
  {
   "cell_type": "code",
   "execution_count": 10,
   "metadata": {},
   "outputs": [],
   "source": [
    "def move_centroids(X,cluster_group):\n",
    "    new_centroids = []\n",
    "    \n",
    "    cluster_type = np.unique(cluster_group)\n",
    "    \n",
    "    for type in cluster_type:\n",
    "        new_centroids.append(X[cluster_group == type].mean(axis = 0))\n",
    "        \n",
    "    return np.array(new_centroids)    "
   ]
  },
  {
   "cell_type": "code",
   "execution_count": 11,
   "metadata": {},
   "outputs": [],
   "source": [
    "def predict(X):\n",
    "    \n",
    "    random_index = random.sample(range(0,X.shape[0]),n_cluster)\n",
    "    centroid = X[random_index]\n",
    "    \n",
    "    for i in range(max_iterations):\n",
    "        cluster_group = assign_clusters(X)\n",
    "        old_centroid = centroid\n",
    "        centroid = move_centroids(X,cluster_group)\n",
    "    \n",
    "        if (old_centroid == centroid).all():\n",
    "        \n",
    "           break\n",
    "        \n",
    "    return cluster_group    "
   ]
  },
  {
   "cell_type": "code",
   "execution_count": 12,
   "metadata": {},
   "outputs": [],
   "source": [
    "Y = predict(X)"
   ]
  },
  {
   "cell_type": "code",
   "execution_count": 13,
   "metadata": {},
   "outputs": [
    {
     "data": {
      "image/png": "[encoded data removed]",
      "text/plain": [
       "<Figure size 432x288 with 1 Axes>"
      ]
     },
     "metadata": {
      "needs_background": "light"
     },
     "output_type": "display_data"
    }
   ],
   "source": [
    "plt.scatter(X[Y == 0,0],X[Y == 0,1],color='red')\n",
    "plt.scatter(X[Y == 1,0],X[Y == 1,1],color='blue')\n",
    "plt.scatter(X[Y == 2,0],X[Y == 2,1],color='green')\n",
    "plt.scatter(X[Y == 3,0],X[Y == 3,1],color='yellow')\n",
    "plt.scatter(X[Y == 4,0],X[Y == 4,1],color='black')\n",
    "\n",
    "plt.show()"
   ]
  },
  {
   "cell_type": "code",
   "execution_count": null,
   "metadata": {},
   "outputs": [],
   "source": []
  }
 ],
 "metadata": {
  "kernelspec": {
   "display_name": "Python 3 (ipykernel)",
   "language": "python",
   "name": "python3"
  },
  "language_info": {
   "codemirror_mode": {
    "name": "ipython",
    "version": 3
   },
   "file_extension": ".py",
   "mimetype": "text/x-python",
   "name": "python",
   "nbconvert_exporter": "python",
   "pygments_lexer": "ipython3",
   "version": "3.7.6"
  }
 },
 "nbformat": 4,
 "nbformat_minor": 4
}
